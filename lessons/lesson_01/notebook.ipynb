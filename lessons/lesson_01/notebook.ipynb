{
 "cells": [
  {
   "cell_type": "markdown",
   "id": "a300368d-c5a7-4453-9ad2-08e851deb476",
   "metadata": {},
   "source": [
    "# Learning Lunch: Python for Natural Language Processing"
   ]
  },
  {
   "cell_type": "markdown",
   "id": "346e4dfa",
   "metadata": {},
   "source": [
    "# Lesson 1: The Basics "
   ]
  },
  {
   "cell_type": "markdown",
   "id": "5435455d",
   "metadata": {},
   "source": [
    "## Introduction: Yay! Coding!\n",
    "\n",
    "### This class (and hopefully others!) will be split in 2 parts. \n",
    "\n",
    "1. **Concept time** - Following along with pre-written code\n",
    "\n",
    "    * Lesson 1: Imports, variables, datatypes, if/else, functions\n",
    "\n"
   ]
  },
  {
   "cell_type": "markdown",
   "id": "47a13df2",
   "metadata": {},
   "source": [
    "\n",
    "2. **Project time** - The best way to learn coding? By building something cool!\n",
    "\n",
    "    * Project 1: Band name generator\n",
    "\n",
    "    We'll write a Python program to create a Band Name Generator (one of these bad boys)!\n",
    "\n",
    "    ![Example](indie_band.png)\n",
    "\n",
    "    ![Example](midwest_emo_band.png)\n",
    "\n",
    "    "
   ]
  },
  {
   "cell_type": "markdown",
   "id": "ba791dfd",
   "metadata": {},
   "source": [
    "---\n",
    "**Notes:**\n",
    "* I will include starter code\n",
    "    \n",
    "* You can work collaboratively, solo, or skip it if it's not your style.\n",
    "\n",
    "* You can continue working on projects whenever you want, even if we don't finish today."
   ]
  },
  {
   "cell_type": "markdown",
   "id": "7ad4e0dc",
   "metadata": {},
   "source": [
    "---"
   ]
  },
  {
   "cell_type": "markdown",
   "id": "da338595-d508-4278-9fba-e9b0275e9e39",
   "metadata": {},
   "source": [
    "## 1.1 - Setup \n",
    "\n",
    "### Creating a virtual environment\n",
    "\n",
    "* Open Terminal (I prefer iTerm, but either is fine) and run the following commands. \n",
    "\n",
    "\n",
    "    ```python\n",
    "    cd downloads/python_learning_lunches \n",
    "    conda env create -f environment.yml\n",
    "    conda activate python-ll-env\n",
    "    ```\n",
    "\n",
    "* You should now see ```(python-ll-env)``` before your username."
   ]
  },
  {
   "cell_type": "markdown",
   "id": "a3a3b8db",
   "metadata": {},
   "source": [
    "---\n",
    "**Notes:**\n",
    "\n",
    "* We are using **Conda** to install and manage Python packages. More details [here](https://docs.conda.io).\n",
    "\n",
    "* `environment.yml` is our *environment file*. Learn more about Conda environment files [here](https://carpentries-incubator.github.io/introduction-to-conda-for-data-scientists/04-sharing-environments/index.html).\n",
    "\n",
    "---"
   ]
  },
  {
   "cell_type": "markdown",
   "id": "fad0a35d",
   "metadata": {},
   "source": [
    "### Notebook Shortcuts (Mac)\n",
    "* Run cell: **Shift + Return**\n",
    "* New cell: **b**\n",
    "* Formatting: **Settings > Autoclose brackets**\n",
    "\n",
    "##### Run the cell below, selecting `python-ll-env`as your environment if prompted:\n"
   ]
  },
  {
   "cell_type": "code",
   "execution_count": 1,
   "id": "3f5e6e6e",
   "metadata": {},
   "outputs": [
    {
     "name": "stdout",
     "output_type": "stream",
     "text": [
      "Environment setup complete!\n"
     ]
    }
   ],
   "source": [
    "print(\"Environment setup complete!\")"
   ]
  },
  {
   "cell_type": "markdown",
   "id": "0bf51ee0",
   "metadata": {},
   "source": [
    "### Imports"
   ]
  },
  {
   "cell_type": "markdown",
   "id": "cd8f999f-1790-4107-a4dd-c774f7b28c23",
   "metadata": {},
   "source": [
    "#### For convenience, certain **packages** have already been installed. \n",
    "\n",
    "This means we can simply *import* the package to use it."
   ]
  },
  {
   "cell_type": "code",
   "execution_count": 1,
   "id": "a99994be-5cc2-4300-b18b-d31251ea001d",
   "metadata": {},
   "outputs": [],
   "source": [
    "import pandas as pd\n",
    "\n",
    "# What this means: Import the library \"pandas\" under an alias \"pd\""
   ]
  },
  {
   "cell_type": "markdown",
   "id": "acbe9415-8b07-46bc-819c-46d2859eab02",
   "metadata": {},
   "source": [
    "What happens if we try to import a package that isn't already installed in our environment?"
   ]
  },
  {
   "cell_type": "code",
   "execution_count": 1,
   "id": "b80ed470-4130-4de4-a1f4-fe0b4479f2d4",
   "metadata": {},
   "outputs": [
    {
     "ename": "ModuleNotFoundError",
     "evalue": "No module named 'polyglot'",
     "output_type": "error",
     "traceback": [
      "\u001b[0;31m---------------------------------------------------------------------------\u001b[0m",
      "\u001b[0;31mModuleNotFoundError\u001b[0m                       Traceback (most recent call last)",
      "Cell \u001b[0;32mIn[1], line 1\u001b[0m\n\u001b[0;32m----> 1\u001b[0m \u001b[38;5;28;01mimport\u001b[39;00m \u001b[38;5;21;01mpolyglot\u001b[39;00m\n",
      "\u001b[0;31mModuleNotFoundError\u001b[0m: No module named 'polyglot'"
     ]
    }
   ],
   "source": [
    "import polyglot"
   ]
  },
  {
   "cell_type": "markdown",
   "id": "744d63a3-4b39-4fbb-9325-e6f15959d430",
   "metadata": {},
   "source": [
    "We get an error since `polyglot` is missing from the packages currently installed in our environment. \n",
    "\n",
    "To fix this, we can install the missing library with `!pip install <PACKAGE_NAME>`.\n"
   ]
  },
  {
   "cell_type": "code",
   "execution_count": 2,
   "id": "8acb970b-448e-4a25-b16c-8bfec1fb56fc",
   "metadata": {},
   "outputs": [
    {
     "name": "stdout",
     "output_type": "stream",
     "text": [
      "Collecting polyglot\n",
      "  Using cached polyglot-16.7.4-py2.py3-none-any.whl\n",
      "Installing collected packages: polyglot\n",
      "Successfully installed polyglot-16.7.4\n"
     ]
    }
   ],
   "source": [
    "!pip install polyglot"
   ]
  },
  {
   "cell_type": "markdown",
   "id": "07ada41b",
   "metadata": {},
   "source": [
    "---\n",
    "**Note:** \n",
    "\n",
    "* Since we're working in a Conda environment, it's best practice to install packages with `!conda install [OPTIONS] <PACKAGE_NAME>` unless `pip install` is absolutely necessary. Pip is a bit faster, so I'm using it to demonstrate.\n",
    "\n",
    "---"
   ]
  },
  {
   "cell_type": "markdown",
   "id": "b639f490",
   "metadata": {},
   "source": [
    "To check that the package was installed, we run the `import` statement again to see if it throws us an error."
   ]
  },
  {
   "cell_type": "code",
   "execution_count": 3,
   "id": "4dc80854-4168-4567-ad7c-96d31c1a43d0",
   "metadata": {},
   "outputs": [],
   "source": [
    "import polyglot"
   ]
  },
  {
   "cell_type": "markdown",
   "id": "99eb709b-63de-4591-bd8d-c1bbc31ffc86",
   "metadata": {},
   "source": [
    "It worked! Before we can move on to the fun stuff, let's import a few more things."
   ]
  },
  {
   "cell_type": "markdown",
   "id": "b0691e5a-e490-4738-b6f4-1bd994c10fae",
   "metadata": {},
   "source": [
    "### Other Imports"
   ]
  },
  {
   "cell_type": "code",
   "execution_count": 5,
   "id": "e5e27120-5e49-404a-a6f9-2cf62902dc28",
   "metadata": {},
   "outputs": [],
   "source": [
    "\n",
    "import re\n",
    "from utils.functions import *\n"
   ]
  },
  {
   "cell_type": "markdown",
   "id": "4d986d38",
   "metadata": {},
   "source": [
    "---"
   ]
  },
  {
   "cell_type": "markdown",
   "id": "3b1d4489",
   "metadata": {},
   "source": [
    "## 1.2: Crash course on Python variables and data types "
   ]
  },
  {
   "cell_type": "markdown",
   "id": "ed248281",
   "metadata": {},
   "source": [
    "We'll start by defining two variables:\n",
    "\n",
    "1. `first_superbowl_winner`: The winning team of the first ever Super Bowl, in 1966. \n",
    "\n",
    "2. `superbowl_winner`: A Super Bowl-winning team."
   ]
  },
  {
   "cell_type": "code",
   "execution_count": 7,
   "id": "db708de5",
   "metadata": {},
   "outputs": [],
   "source": [
    "### Don't do this:\n",
    "# x = \"\"\n",
    "\n",
    "### Do this:\n",
    "first_superbowl_winner = \"Green Bay Packers\"\n",
    "superbowl_winner = None"
   ]
  },
  {
   "cell_type": "markdown",
   "id": "41563f16",
   "metadata": {},
   "source": [
    "The first Super Bowl, in 1966, was won by the Green Bay Packers. \n",
    "\n",
    "However...\n",
    "\n",
    "`superbowl_winner` can refer to 20 unique teams (at the time of writing), depending on the year. \n",
    "\n",
    "Since we don't have a definition for \"year\" yet, let's assign a value of `None` to `superbowl_winner` for now."
   ]
  },
  {
   "cell_type": "markdown",
   "id": "d8c75b19",
   "metadata": {},
   "source": [
    "---"
   ]
  },
  {
   "cell_type": "markdown",
   "id": "8dc486bb",
   "metadata": {},
   "source": [
    "### Data types\n",
    "\n",
    "(It's a good idea to familiarize yourself with Python's built-in data types - [the offical documentation](https://docs.python.org/3/library/stdtypes.html) is a good place to start.)\n",
    "\n",
    "Let's check the `type` of our variables using `formatted_type()`, a function I wrote to make it a bit easier on the eyes & save us some time."
   ]
  },
  {
   "cell_type": "code",
   "execution_count": 8,
   "id": "678fee5a",
   "metadata": {},
   "outputs": [
    {
     "name": "stdout",
     "output_type": "stream",
     "text": [
      "Input: None\n",
      " \n",
      "Data type: NoneType\n"
     ]
    }
   ],
   "source": [
    "formatted_type(superbowl_winner)"
   ]
  },
  {
   "cell_type": "code",
   "execution_count": 9,
   "id": "282a8f7e",
   "metadata": {},
   "outputs": [
    {
     "name": "stdout",
     "output_type": "stream",
     "text": [
      "Input: Green Bay Packers\n",
      " \n",
      "Data type: str\n"
     ]
    }
   ],
   "source": [
    "formatted_type(first_superbowl_winner)"
   ]
  },
  {
   "cell_type": "markdown",
   "id": "6c8a5da7",
   "metadata": {},
   "source": [
    "---\n",
    "**FYI:**\n",
    "\n",
    "Under the hood, `formatted_type`:\n",
    "1. Takes an input \n",
    "2. check its data type with the built-in function `type()`\n",
    "3. Outputs the result with the built-in-function`print()`"
   ]
  },
  {
   "cell_type": "markdown",
   "id": "af819492",
   "metadata": {},
   "source": [
    "---"
   ]
  },
  {
   "cell_type": "markdown",
   "id": "cdf52fc7",
   "metadata": {},
   "source": [
    "### To recap...\n",
    "* `NoneType`s in Python pretty much just means \"no value\". \n",
    "\n",
    "* `str` is short for `string`: a string of characters surrounded by open and closed quotations.\n",
    "\n",
    "    * Even though they can get complicated, for today we can think of them as *text*: sentences, words, characters...\n",
    "\n",
    "* We work with strings a lot, so we'll go over some ways to slice and dice them in a bit."
   ]
  },
  {
   "cell_type": "markdown",
   "id": "02b08887",
   "metadata": {},
   "source": [
    "### ### (Time permitting) Ok, so what?"
   ]
  },
  {
   "cell_type": "markdown",
   "id": "c1f2248a",
   "metadata": {},
   "source": [
    "One thing to keep in mind: it evaluates to the **boolean** `False` in an `if/else` statement.\n",
    "\n",
    "Let's use the function below to see this in action."
   ]
  },
  {
   "cell_type": "code",
   "execution_count": 9,
   "id": "a2d5aa9f",
   "metadata": {},
   "outputs": [],
   "source": [
    "def who_won(superbowl_winner):\n",
    "    if superbowl_winner:    # if superbowl_winner is has a value\n",
    "        print(f\"{superbowl_winner} won the super bowl!\") # <- do this\n",
    "    else: # if it doesn't\n",
    "        print(\"Wait, what year is it?\") #<- do this instead"
   ]
  },
  {
   "cell_type": "code",
   "execution_count": 10,
   "id": "59c77875",
   "metadata": {},
   "outputs": [
    {
     "name": "stdout",
     "output_type": "stream",
     "text": [
      "Wait, what year is it?\n"
     ]
    }
   ],
   "source": [
    "superbowl_winner = None \n",
    "who_won(superbowl_winner) # None has a value = False"
   ]
  },
  {
   "cell_type": "markdown",
   "id": "9fff9668",
   "metadata": {},
   "source": [
    "#### **Vibe check**: Let's make a small change by putting quotation marks around `None`. \n",
    "\n",
    "What will the output be now?"
   ]
  },
  {
   "cell_type": "code",
   "execution_count": 11,
   "id": "9e4bbd8b",
   "metadata": {},
   "outputs": [],
   "source": [
    "superbowl_winner = \"None\"\n",
    "#who_won(superbowl_winner)"
   ]
  },
  {
   "cell_type": "code",
   "execution_count": 10,
   "id": "b11dcb82",
   "metadata": {},
   "outputs": [],
   "source": [
    "superbowl_winner_type = type(superbowl_winner).__name__\n",
    "print(superbowl_winner_type)"
   ]
  },
  {
   "cell_type": "markdown",
   "id": "366246b0",
   "metadata": {},
   "source": [
    "### ### (end time permitting)"
   ]
  },
  {
   "cell_type": "markdown",
   "id": "3448d690",
   "metadata": {},
   "source": [
    "## 1.3 - Strings"
   ]
  },
  {
   "cell_type": "markdown",
   "id": "09e597e7",
   "metadata": {},
   "source": [
    "#### Strings are sequences - *strings* - of character data enclosed by either double or single quotes. \n"
   ]
  },
  {
   "cell_type": "code",
   "execution_count": 51,
   "id": "315a5384",
   "metadata": {},
   "outputs": [],
   "source": [
    "# Takes user input, saves as variable\n",
    "MYNAME = input(\"My name is: \")"
   ]
  },
  {
   "cell_type": "code",
   "execution_count": 46,
   "id": "8c8f23f1",
   "metadata": {},
   "outputs": [
    {
     "name": "stdout",
     "output_type": "stream",
     "text": [
      "My name is michelle\n",
      "My name is michelle\n",
      "The first letter of my name is m\n",
      "My name backwards is ellehcim\n",
      "My name has 8 letters\n"
     ]
    }
   ],
   "source": [
    "\n",
    "#Concactenation\n",
    "print(\"My name is \" + MYNAME)\n",
    "\n",
    "#F-string\n",
    "print(f\"My name is {MYNAME}\")\n",
    "\n",
    "#Slicing\n",
    "print(\"The first letter of my name is \" + MYNAME[0])\n",
    "\n",
    "print(\"My name backwards is \" + MYNAME[::-1])\n",
    "\n",
    "#Length\n",
    "print(f\"My name has {len(MYNAME)} letters\")"
   ]
  },
  {
   "cell_type": "markdown",
   "id": "469f42d7",
   "metadata": {},
   "source": [
    "--- \n",
    "**Note:**\n",
    "\n",
    "There are many other useful built-in string methods. Check out more examples [here](https://www.pythoncheatsheet.org/cheatsheet/manipulating-strings).\n",
    "\n",
    "---"
   ]
  },
  {
   "cell_type": "markdown",
   "id": "32c4b54c",
   "metadata": {},
   "source": [
    "#### Strings are immutable, meaning they cannot be changed once created. "
   ]
  },
  {
   "cell_type": "code",
   "execution_count": 48,
   "id": "af303faf",
   "metadata": {},
   "outputs": [
    {
     "ename": "TypeError",
     "evalue": "'str' object does not support item assignment",
     "output_type": "error",
     "traceback": [
      "\u001b[0;31m---------------------------------------------------------------------------\u001b[0m",
      "\u001b[0;31mTypeError\u001b[0m                                 Traceback (most recent call last)",
      "Cell \u001b[0;32mIn[48], line 1\u001b[0m\n\u001b[0;32m----> 1\u001b[0m \u001b[43mMYNAME\u001b[49m\u001b[43m[\u001b[49m\u001b[38;5;241;43m0\u001b[39;49m\u001b[43m]\u001b[49m \u001b[38;5;241m=\u001b[39m \u001b[38;5;124m\"\u001b[39m\u001b[38;5;124mM\u001b[39m\u001b[38;5;124m\"\u001b[39m\n",
      "\u001b[0;31mTypeError\u001b[0m: 'str' object does not support item assignment"
     ]
    }
   ],
   "source": [
    "MYNAME[0] = \"M\""
   ]
  },
  {
   "cell_type": "code",
   "execution_count": 49,
   "id": "9b3811ea",
   "metadata": {},
   "outputs": [
    {
     "name": "stdout",
     "output_type": "stream",
     "text": [
      "Michelle\n",
      "My name is Michelle\n"
     ]
    }
   ],
   "source": [
    "MYNAME = \"M\" + MYNAME[1:]\n",
    "print(MYNAME)\n",
    "\n",
    "# Built-in method for this as well\n",
    "print(f\"My name is {MYNAME.capitalize()}\")"
   ]
  },
  {
   "cell_type": "code",
   "execution_count": 50,
   "id": "31174431",
   "metadata": {},
   "outputs": [
    {
     "name": "stdout",
     "output_type": "stream",
     "text": [
      "My name without vowels is Mchll\n"
     ]
    }
   ],
   "source": [
    "# Regex\n",
    "vowels = re.compile(\"[aeiou]\")\n",
    "print(f\"My name without vowels is {re.sub(vowels, '', MYNAME)}\")"
   ]
  },
  {
   "cell_type": "markdown",
   "id": "97847cd0",
   "metadata": {},
   "source": [
    "### Converting data types to strings"
   ]
  },
  {
   "cell_type": "code",
   "execution_count": 33,
   "id": "bd0c8531",
   "metadata": {},
   "outputs": [],
   "source": [
    "def birth_month(month):\n",
    "    return \"My birth month is \" + month"
   ]
  },
  {
   "cell_type": "code",
   "execution_count": 34,
   "id": "9a12e0fd",
   "metadata": {},
   "outputs": [
    {
     "ename": "TypeError",
     "evalue": "can only concatenate str (not \"int\") to str",
     "output_type": "error",
     "traceback": [
      "\u001b[0;31m---------------------------------------------------------------------------\u001b[0m",
      "\u001b[0;31mTypeError\u001b[0m                                 Traceback (most recent call last)",
      "Cell \u001b[0;32mIn[34], line 3\u001b[0m\n\u001b[1;32m      1\u001b[0m MONTH \u001b[38;5;241m=\u001b[39m \u001b[38;5;241m1\u001b[39m\n\u001b[0;32m----> 3\u001b[0m \u001b[43mbirth_month\u001b[49m\u001b[43m(\u001b[49m\u001b[38;5;241;43m1\u001b[39;49m\u001b[43m)\u001b[49m\n",
      "Cell \u001b[0;32mIn[33], line 2\u001b[0m, in \u001b[0;36mbirth_month\u001b[0;34m(month)\u001b[0m\n\u001b[1;32m      1\u001b[0m \u001b[38;5;28;01mdef\u001b[39;00m \u001b[38;5;21mbirth_month\u001b[39m(month):\n\u001b[0;32m----> 2\u001b[0m     \u001b[38;5;28;01mreturn\u001b[39;00m \u001b[38;5;124;43m\"\u001b[39;49m\u001b[38;5;124;43mMy birth month is \u001b[39;49m\u001b[38;5;124;43m\"\u001b[39;49m\u001b[43m \u001b[49m\u001b[38;5;241;43m+\u001b[39;49m\u001b[43m \u001b[49m\u001b[43mmonth\u001b[49m\n",
      "\u001b[0;31mTypeError\u001b[0m: can only concatenate str (not \"int\") to str"
     ]
    }
   ],
   "source": [
    "MONTH = 1\n",
    "\n",
    "birth_month(1)"
   ]
  },
  {
   "cell_type": "code",
   "execution_count": 36,
   "id": "90f0959e",
   "metadata": {},
   "outputs": [
    {
     "data": {
      "text/plain": [
       "'My birth month is 26'"
      ]
     },
     "execution_count": 36,
     "metadata": {},
     "output_type": "execute_result"
    }
   ],
   "source": [
    "# Cast to string \n",
    "\n",
    "MONTH = str(MONTH)\n",
    "birth_month(MONTH)"
   ]
  },
  {
   "cell_type": "markdown",
   "id": "1cc7503d",
   "metadata": {},
   "source": [
    "### An Aside: Functions"
   ]
  },
  {
   "cell_type": "markdown",
   "id": "1fc8d912",
   "metadata": {},
   "source": [
    "#### A very basic function:"
   ]
  },
  {
   "cell_type": "code",
   "execution_count": 57,
   "id": "092a5312",
   "metadata": {},
   "outputs": [],
   "source": [
    "def say_hi(name: str) -> str:    \n",
    "    '''\n",
    "    Appends the string \"hi\" to a name.\n",
    "    '''\n",
    "    greeting = f\"Hi, {name}!\"\n",
    "    return greeting"
   ]
  },
  {
   "cell_type": "markdown",
   "id": "d94dcc14",
   "metadata": {},
   "source": [
    "#### Let's walk through it line-by-line!\n",
    "\n",
    "* Line 1: `def say_hi(name: str) -> str:`\n",
    "\n",
    "    * (Most) functions start with the keyword `def`, short for \"define\".\n",
    "\n",
    "    * `say_hi` is the function name. \n",
    "\n",
    "    * `\\(name: str\\)-> str` - `name` is the parameter and `str` is its expected type. The `type` after the arrow ->  indicates the expected output variable.\n",
    "\n",
    "        * This is called *type hinting* - while it's not mandatory, it is good practice to avoid problems when your code gets more complex.\n",
    "        \n",
    "* Lines 2-4: \n",
    "\n",
    "    * This is a docstring: a bit of text that tells others (and sometimes yourself) what the function is meant to do.\n",
    "\n",
    "\n",
    "* Line 5: `greeting = f\"Hi, {name}!\"`\n",
    "\n",
    "    * This is the function body, where the magic happens.\n",
    "    \n",
    "    * In this case, it uses an *f-string* (more on this later) to format a greeting (\"Hi, <name>!\")\n",
    "\n",
    "* Line 6: `return greeting`\n",
    "\n",
    "    * The `return` keyword means the function is actually outputting a value - something we can store and manipulate.\n",
    "\n",
    "    *  Question: what if we changed `return` to `print()`?\n"
   ]
  },
  {
   "cell_type": "markdown",
   "id": "8094da03",
   "metadata": {},
   "source": [
    "---"
   ]
  },
  {
   "cell_type": "markdown",
   "id": "84c0f767",
   "metadata": {},
   "source": [
    "### Your turn! "
   ]
  },
  {
   "cell_type": "code",
   "execution_count": 56,
   "id": "fc31aa02",
   "metadata": {},
   "outputs": [],
   "source": [
    "def greet_user(greeting: str) -> str:\n",
    "    '''\n",
    "    Prompts user for first and last names, then greets user by their full name. \n",
    "    \n",
    "    params:\n",
    "    ------\n",
    "    greeting: str\n",
    "    The greeting to use, e.g. 'What's up'.\n",
    "    \n",
    "    Example:\n",
    "    --------\n",
    "\n",
    "    fname = 'michelle'\n",
    "    lname = 'yun'\n",
    "    \n",
    "    greet_user('What's up') should return 'What's up Michelle Yun'\n",
    "    '''\n",
    "    #Change these\n",
    "    fname = ... \n",
    "    lname = ... \n",
    "    \n",
    "    # Your code here\n",
    "    \n",
    "    "
   ]
  },
  {
   "cell_type": "markdown",
   "id": "055f7eb9",
   "metadata": {},
   "source": [
    "## 1.4 - Iterables & For Loops"
   ]
  },
  {
   "cell_type": "markdown",
   "id": "783614c1",
   "metadata": {},
   "source": [
    "Iterables are objects that you can iterate - or loop - through. Let's look at the most useful/common types."
   ]
  },
  {
   "cell_type": "markdown",
   "id": "5b50ba41",
   "metadata": {},
   "source": [
    "### Lists"
   ]
  },
  {
   "cell_type": "code",
   "execution_count": 26,
   "id": "9545bc8f",
   "metadata": {},
   "outputs": [],
   "source": [
    "shopping_list = [\"milk\", \"apples\", \"cereal\", \"juice\"]"
   ]
  },
  {
   "cell_type": "markdown",
   "id": "490b6b8a",
   "metadata": {},
   "source": [
    "What can we do with lists?"
   ]
  },
  {
   "cell_type": "code",
   "execution_count": 25,
   "id": "e47410b6",
   "metadata": {},
   "outputs": [
    {
     "data": {
      "text/plain": [
       "True"
      ]
     },
     "execution_count": 25,
     "metadata": {},
     "output_type": "execute_result"
    }
   ],
   "source": [
    "\"milk\" in shopping_list"
   ]
  },
  {
   "cell_type": "code",
   "execution_count": 21,
   "id": "d765371b",
   "metadata": {},
   "outputs": [
    {
     "data": {
      "text/plain": [
       "4"
      ]
     },
     "execution_count": 21,
     "metadata": {},
     "output_type": "execute_result"
    }
   ],
   "source": [
    "len(shopping_list)"
   ]
  },
  {
   "cell_type": "code",
   "execution_count": 22,
   "id": "798dd323",
   "metadata": {},
   "outputs": [
    {
     "data": {
      "text/plain": [
       "'cereal'"
      ]
     },
     "execution_count": 22,
     "metadata": {},
     "output_type": "execute_result"
    }
   ],
   "source": [
    "shopping_list[2]"
   ]
  },
  {
   "cell_type": "markdown",
   "id": "3878c572",
   "metadata": {},
   "source": [
    "### How does looping work?"
   ]
  },
  {
   "cell_type": "code",
   "execution_count": 31,
   "id": "bb9435b2",
   "metadata": {},
   "outputs": [
    {
     "name": "stdout",
     "output_type": "stream",
     "text": [
      "['ham', 'milk']\n",
      "['ham', 'milk', 'apples', 'cereal', 'juice']\n"
     ]
    }
   ],
   "source": [
    "new_shopping_list = [\"ham\", \"milk\"]\n",
    "print(new_shopping_list)\n",
    "\n",
    "for item in shopping_list:\n",
    "    if item not in new_shopping_list:\n",
    "        new_shopping_list.append(item)\n",
    "        \n",
    "print(new_shopping_list)\n",
    "        "
   ]
  },
  {
   "cell_type": "markdown",
   "id": "22d193d0",
   "metadata": {},
   "source": [
    "What is the datatype of `pastfive_sb_winners`?\n",
    "\n",
    "Find it, then assign it to the variable `pastfive_sb_winners_type` (hint: use `type()`). "
   ]
  },
  {
   "cell_type": "code",
   "execution_count": 13,
   "id": "19f8fd5d",
   "metadata": {},
   "outputs": [],
   "source": [
    "pastfive_sb_winners = {\n",
    "    \"2023\": \"Kansas City Chiefs\",\n",
    "    \"2022\": \"Los Angeles Rams\",\n",
    "    \"2021\": \"Tampa Bay Buccaneers\",\n",
    "    \"2020\": \"Kansas City Chiefs\",\n",
    "    \"2019\": \"New England Patriots\",\n",
    "    \"2018\": \"Philadelphia Eagles\",\n",
    "    \"2017\": \"New England Patriots\",\n",
    "    \"2016\": \"Denver Broncos\"    \n",
    "}\n",
    "\n",
    "### Your code here\n",
    "pastfive_sb_winners_type = ... # change this\n",
    "\n",
    "## Throws an error if pastfive_sb_winners_type is incorrect\n",
    "\n",
    "assert pastfive_sb_winners_type == Solutions.q1, \"Try again\""
   ]
  },
  {
   "cell_type": "code",
   "execution_count": 58,
   "id": "f1ab6561",
   "metadata": {},
   "outputs": [],
   "source": [
    "#years_list = ['2023', '2022', '2021', '2020', '2019', '2018', '2017', '2016']\n"
   ]
  },
  {
   "cell_type": "markdown",
   "id": "82cfb512",
   "metadata": {},
   "source": [
    "---"
   ]
  },
  {
   "cell_type": "markdown",
   "id": "df67f69d",
   "metadata": {},
   "source": [
    "### Python dictionaries represent key-value pairs.\n",
    "\n",
    "* In `pastfive_sb_winners`, the **keys** are years and the **values** are team names.\n",
    "\n",
    "* Each year maps to the winning team the Superbowl of the given year.\n",
    "\n",
    "**Note**: Dictionary keys cannot be duplicates, and they have other important qualities like immutability. \n",
    "\n",
    "* We'll go more into this later.\n",
    "\n",
    "* For now, the most important thing to know is that you can extract a value from a `dict` using its key.\n",
    "\n",
    "* We'll be doing this to build our Band Name Generator!\n",
    "\n"
   ]
  },
  {
   "cell_type": "code",
   "execution_count": 15,
   "id": "b4a3c2cb",
   "metadata": {},
   "outputs": [
    {
     "data": {
      "text/plain": [
       "'Kansas City Chiefs'"
      ]
     },
     "execution_count": 15,
     "metadata": {},
     "output_type": "execute_result"
    }
   ],
   "source": [
    "pastfive_sb_winners[\"2023\"]\n",
    "\n",
    "# If the key doesn't exist???\n",
    "# pastfive_sb_winners[\"2025\"]\n"
   ]
  },
  {
   "cell_type": "markdown",
   "id": "9b9e7ab2",
   "metadata": {},
   "source": [
    "Who won the Superbowl in 2017? Assign the answer to `sb_winner_2017` and run the cell to check."
   ]
  },
  {
   "cell_type": "code",
   "execution_count": 18,
   "id": "75a73832",
   "metadata": {},
   "outputs": [],
   "source": [
    "## Your code here\n",
    "sb_winner_2017 = ...\n",
    "\n",
    "assert sb_winner_2017 == Solutions.q2, \"Try again\""
   ]
  },
  {
   "cell_type": "markdown",
   "id": "1d265d72",
   "metadata": {},
   "source": [
    "---\n",
    "\n",
    "### Your turn!"
   ]
  },
  {
   "cell_type": "markdown",
   "id": "5821db88",
   "metadata": {},
   "source": [
    "We now have enough information to write a piece of code that:\n",
    "\n",
    "* Takes an input `year` (Question: are there any constraints to consider?)\n",
    "\n",
    "* Returns the value for `superbowl_winner` of that `year` using `pastfive_sb_winners`\n"
   ]
  },
  {
   "cell_type": "markdown",
   "id": "8bcc6246",
   "metadata": {},
   "source": [
    "\n",
    "In other words, we're mapping a parameter *year* (what goes in) to a value *superbowl_winner* (what comes out).\n",
    "\n",
    "* That's pretty much the gist of what a function does!\n"
   ]
  },
  {
   "cell_type": "code",
   "execution_count": 20,
   "id": "a3e18359",
   "metadata": {},
   "outputs": [
    {
     "name": "stdout",
     "output_type": "stream",
     "text": [
      "{'2023': 'Kansas City Chiefs', '2022': 'Los Angeles Rams', '2021': 'Tampa Bay Buccaneers', '2020': 'Kansas City Chiefs', '2019': 'New England Patriots', '2018': 'Philadelphia Eagles', '2017': 'New England Patriots', '2016': 'Denver Broncos'}\n"
     ]
    }
   ],
   "source": [
    "# Our dictionary\n",
    "SB_DICT = pastfive_sb_winners\n",
    "print(SB_DICT)"
   ]
  },
  {
   "cell_type": "code",
   "execution_count": null,
   "id": "5818a809",
   "metadata": {},
   "outputs": [],
   "source": [
    "\n",
    "def who_won_the_sb(year:...) -> str:    # what is the expected dtype of year?\n",
    "    ### Your code here\n",
    "    pass\n",
    "    \n"
   ]
  }
 ],
 "metadata": {
  "kernelspec": {
   "display_name": "llenv",
   "language": "python",
   "name": "python3"
  },
  "language_info": {
   "codemirror_mode": {
    "name": "ipython",
    "version": 3
   },
   "file_extension": ".py",
   "mimetype": "text/x-python",
   "name": "python",
   "nbconvert_exporter": "python",
   "pygments_lexer": "ipython3",
   "version": "3.12.1"
  }
 },
 "nbformat": 4,
 "nbformat_minor": 5
}
