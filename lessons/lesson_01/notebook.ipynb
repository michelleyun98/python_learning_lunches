{
 "cells": [
  {
   "cell_type": "markdown",
   "id": "a300368d-c5a7-4453-9ad2-08e851deb476",
   "metadata": {},
   "source": [
    "# Learning Lunch: Python for Natural Language Processing"
   ]
  },
  {
   "cell_type": "markdown",
   "id": "346e4dfa",
   "metadata": {},
   "source": [
    "# Lesson 1: The Basics "
   ]
  },
  {
   "cell_type": "markdown",
   "id": "5435455d",
   "metadata": {},
   "source": [
    "## Introduction: Yay! Coding!\n",
    "\n",
    "### This class (and hopefully others!) will be split in 2 parts. \n",
    "\n",
    "1. **Concept time** - Following along with pre-written code\n",
    "\n",
    "    * Lesson 1: Imports, variables, datatypes, if/else, functions\n",
    "\n"
   ]
  },
  {
   "cell_type": "markdown",
   "id": "47a13df2",
   "metadata": {},
   "source": [
    "\n",
    "2. **Project time** - The best way to learn coding? By building something cool!\n",
    "\n",
    "    * Project 1: Band name generator\n",
    "\n",
    "    We'll write a Python program to create a Band Name Generator (one of these bad boys)!\n",
    "\n",
    "    ![Example](indie_band.png)\n",
    "\n",
    "    ![Example](midwest_emo_band.png)\n",
    "\n",
    "    Storytelling program is an alternative, could be more challenging? \n",
    "\n",
    "    * I will include starter code\n",
    "    \n",
    "    * You can work collaboratively, solo, or skip it if it's not your style.\n",
    "\n",
    "    * You can continue working on projects whenever you want, even if we don't finish today.\n",
    "    "
   ]
  },
  {
   "cell_type": "markdown",
   "id": "7ad4e0dc",
   "metadata": {},
   "source": [
    "---"
   ]
  },
  {
   "cell_type": "markdown",
   "id": "da338595-d508-4278-9fba-e9b0275e9e39",
   "metadata": {},
   "source": [
    "## 1.1 - Setup \n",
    "\n",
    "### Before we start:\n",
    "* We will be working from *notebooks* where we can write and execute chunks of code.\n",
    "\n",
    "* Conda will help keep our Python packages from getting messy.\n",
    "\n",
    "* Check out `environment.yml` for more info!\n",
    "\n",
    "    #### Notebook Tips (Mac):\n",
    "    * Run cell: **Shift + Return**\n",
    "    * New cell: **b**\n",
    "    * Formatting: **Settings > Autoclose brackets**"
   ]
  },
  {
   "cell_type": "markdown",
   "id": "0bf51ee0",
   "metadata": {},
   "source": [
    "### Imports"
   ]
  },
  {
   "cell_type": "markdown",
   "id": "cd8f999f-1790-4107-a4dd-c774f7b28c23",
   "metadata": {},
   "source": [
    "#### To save time, certain **packages** have already been installed. \n",
    "\n",
    "This means we can simply *import* the package to use it."
   ]
  },
  {
   "cell_type": "code",
   "execution_count": 1,
   "id": "a99994be-5cc2-4300-b18b-d31251ea001d",
   "metadata": {},
   "outputs": [],
   "source": [
    "import pandas as pd\n",
    "\n",
    "# What this means: Import the library \"pandas\" under an alias \"pd\""
   ]
  },
  {
   "cell_type": "markdown",
   "id": "acbe9415-8b07-46bc-819c-46d2859eab02",
   "metadata": {},
   "source": [
    "What happens if we try to import a package that isn't already installed in our environment?"
   ]
  },
  {
   "cell_type": "code",
   "execution_count": 6,
   "id": "b80ed470-4130-4de4-a1f4-fe0b4479f2d4",
   "metadata": {},
   "outputs": [
    {
     "ename": "ModuleNotFoundError",
     "evalue": "No module named 'polyglot'",
     "output_type": "error",
     "traceback": [
      "\u001b[0;31m---------------------------------------------------------------------------\u001b[0m",
      "\u001b[0;31mModuleNotFoundError\u001b[0m                       Traceback (most recent call last)",
      "Cell \u001b[0;32mIn[6], line 1\u001b[0m\n\u001b[0;32m----> 1\u001b[0m \u001b[38;5;28;01mimport\u001b[39;00m \u001b[38;5;21;01mpolyglot\u001b[39;00m\n",
      "\u001b[0;31mModuleNotFoundError\u001b[0m: No module named 'polyglot'"
     ]
    }
   ],
   "source": [
    "import polyglot"
   ]
  },
  {
   "cell_type": "markdown",
   "id": "744d63a3-4b39-4fbb-9325-e6f15959d430",
   "metadata": {},
   "source": [
    "We get an error since `polyglot` is missing from the packages currently installed in our environment. \n",
    "\n",
    "To fix this, we can install the missing library with `!pip install <PACKAGE_NAME>`.\n"
   ]
  },
  {
   "cell_type": "markdown",
   "id": "a8835446",
   "metadata": {},
   "source": [
    "(**Note**: Since we're working in a Conda environment, it's best practice to install packages with `!conda install [OPTIONS] <PACKAGE_NAME>` unless `pip install` is absolutely necessary. \n",
    "\n",
    "[(Learn more about Conda)](https://docs.conda.io)"
   ]
  },
  {
   "cell_type": "code",
   "execution_count": 7,
   "id": "8acb970b-448e-4a25-b16c-8bfec1fb56fc",
   "metadata": {},
   "outputs": [
    {
     "name": "stdout",
     "output_type": "stream",
     "text": [
      "Collecting polyglot\n",
      "  Downloading polyglot-16.7.4.tar.gz (126 kB)\n",
      "\u001b[2K     \u001b[38;2;114;156;31m━━━━━━━━━━━━━━━━━━━━━━━━━━━━━━━━━━━━━━━\u001b[0m \u001b[32m126.3/126.3 kB\u001b[0m \u001b[31m1.0 MB/s\u001b[0m eta \u001b[36m0:00:00\u001b[0m[31m1.4 MB/s\u001b[0m eta \u001b[36m0:00:01\u001b[0m\n",
      "\u001b[?25h  Preparing metadata (setup.py) ... \u001b[?25ldone\n",
      "\u001b[?25hBuilding wheels for collected packages: polyglot\n",
      "  Building wheel for polyglot (setup.py) ... \u001b[?25ldone\n",
      "\u001b[?25h  Created wheel for polyglot: filename=polyglot-16.7.4-py2.py3-none-any.whl size=52558 sha256=494eb2941f42c209319395a19968e5f142d3eb91c2557b808dbe13921ab7acf0\n",
      "  Stored in directory: /Users/yunmichelle/Library/Caches/pip/wheels/c7/5e/28/47349211ec1f91379f41ed10bc2520f7071ecfb6cbe182f6fe\n",
      "Successfully built polyglot\n",
      "Installing collected packages: polyglot\n",
      "Successfully installed polyglot-16.7.4\n"
     ]
    }
   ],
   "source": [
    "!pip install polyglot"
   ]
  },
  {
   "cell_type": "markdown",
   "id": "b639f490",
   "metadata": {},
   "source": [
    "To check that the package was installed, we run the `import` statement again to see if it throws us an error."
   ]
  },
  {
   "cell_type": "code",
   "execution_count": 17,
   "id": "4dc80854-4168-4567-ad7c-96d31c1a43d0",
   "metadata": {},
   "outputs": [],
   "source": [
    "import polyglot"
   ]
  },
  {
   "cell_type": "markdown",
   "id": "99eb709b-63de-4591-bd8d-c1bbc31ffc86",
   "metadata": {},
   "source": [
    "It worked! Before we can move on to the fun stuff, let's import a few more things."
   ]
  },
  {
   "cell_type": "markdown",
   "id": "b0691e5a-e490-4738-b6f4-1bd994c10fae",
   "metadata": {},
   "source": [
    "### Other Imports"
   ]
  },
  {
   "cell_type": "code",
   "execution_count": 4,
   "id": "e5e27120-5e49-404a-a6f9-2cf62902dc28",
   "metadata": {},
   "outputs": [],
   "source": [
    "import nltk\n",
    "import re\n",
    "import csv\n",
    "import emoji\n",
    "from collections import defaultdict\n",
    "from scripts import helpers as h\n"
   ]
  },
  {
   "cell_type": "markdown",
   "id": "518b76d5",
   "metadata": {},
   "source": [
    "**NLTK** is a popular and widely used tool for NLP with Python. \n",
    "\n",
    "In the cell below, we'll download the packages used in the [NLTK book](https://www.nltk.org/book)."
   ]
  },
  {
   "cell_type": "code",
   "execution_count": 5,
   "id": "a7e6df82-278d-4c2f-875c-27138478dba4",
   "metadata": {},
   "outputs": [],
   "source": [
    "#nltk.download('book')"
   ]
  },
  {
   "cell_type": "markdown",
   "id": "4d986d38",
   "metadata": {},
   "source": [
    "---"
   ]
  },
  {
   "cell_type": "markdown",
   "id": "3b1d4489",
   "metadata": {},
   "source": [
    "## 1.2: Crash course on Python variables and data types "
   ]
  },
  {
   "cell_type": "markdown",
   "id": "ed248281",
   "metadata": {},
   "source": [
    "We'll start by defining two variables:\n",
    "\n",
    "1. `first_superbowl_winner`: The winning team of the first ever Super Bowl, in 1966. \n",
    "\n",
    "2. `superbowl_winner`: A Super Bowl-winning team."
   ]
  },
  {
   "cell_type": "code",
   "execution_count": 6,
   "id": "db708de5",
   "metadata": {},
   "outputs": [],
   "source": [
    "### Don't do this:\n",
    "# x = \"\"\n",
    "\n",
    "### Do this:\n",
    "first_superbowl_winner = \"Green Bay Packers\"\n",
    "superbowl_winner = None"
   ]
  },
  {
   "cell_type": "markdown",
   "id": "41563f16",
   "metadata": {},
   "source": [
    "We know who won the 1966 Super Bowl, but...\n",
    "\n",
    "`superbowl_winner` can refer to 20 unique teams (at the time of writing), depending on the year. \n",
    "\n",
    "Since we don't have a definition for \"year\" yet, we will set the value of `superbowl_winner` to `None`."
   ]
  },
  {
   "cell_type": "markdown",
   "id": "d8c75b19",
   "metadata": {},
   "source": [
    "---"
   ]
  },
  {
   "cell_type": "markdown",
   "id": "8dc486bb",
   "metadata": {},
   "source": [
    "Let's check the Type of our variables using `formatted_type()`, a function I wrote to make it a bit easier on the eyes & save us some time."
   ]
  },
  {
   "cell_type": "code",
   "execution_count": 7,
   "id": "678fee5a",
   "metadata": {},
   "outputs": [
    {
     "name": "stdout",
     "output_type": "stream",
     "text": [
      "Input: None\n",
      " \n",
      "Data type: NoneType\n"
     ]
    }
   ],
   "source": [
    "h.formatted_type(superbowl_winner)"
   ]
  },
  {
   "cell_type": "code",
   "execution_count": 8,
   "id": "282a8f7e",
   "metadata": {},
   "outputs": [
    {
     "name": "stdout",
     "output_type": "stream",
     "text": [
      "Input: Green Bay Packers\n",
      " \n",
      "Data type: str\n"
     ]
    }
   ],
   "source": [
    "h.formatted_type(first_superbowl_winner)"
   ]
  },
  {
   "cell_type": "markdown",
   "id": "6c8a5da7",
   "metadata": {},
   "source": [
    "---\n",
    "##### FYI:\n",
    "Under the hood, `formatted_type`:\n",
    "1. Takes an input \n",
    "2. check its data type with the built-in function `type()`\n",
    "3. Outputs the result with the built-in-function`print()`"
   ]
  },
  {
   "cell_type": "markdown",
   "id": "af819492",
   "metadata": {},
   "source": [
    "---"
   ]
  },
  {
   "cell_type": "markdown",
   "id": "cdf52fc7",
   "metadata": {},
   "source": [
    "### To recap...\n",
    "* `NoneType`s in Python pretty much just means \"no value\". \n",
    "\n",
    "* `str` is short for `string`: a string of characters surrounded by open and closed quotations.\n",
    "\n",
    "    * Even though they can get complicated, for today we can think of them as *text*: sentences, words, characters...\n",
    "\n",
    "We work with strings a lot, so we'll go over some ways to slice and dice them in a bit."
   ]
  },
  {
   "cell_type": "markdown",
   "id": "02b08887",
   "metadata": {},
   "source": [
    "### ### (Time permitting) Ok, so what?"
   ]
  },
  {
   "cell_type": "markdown",
   "id": "c1f2248a",
   "metadata": {},
   "source": [
    "One thing to keep in mind: it evaluates to the **boolean** `False` in an `if/else` statement.\n",
    "\n",
    "Let's use the function below to see this in action."
   ]
  },
  {
   "cell_type": "code",
   "execution_count": 9,
   "id": "a2d5aa9f",
   "metadata": {},
   "outputs": [],
   "source": [
    "def who_won(superbowl_winner):\n",
    "    if superbowl_winner:    # if superbowl_winner is has a value\n",
    "        print(f\"{superbowl_winner} won the super bowl!\") # <- do this\n",
    "    else: # if it doesn't\n",
    "        print(\"Wait, what year is it?\") #<- do this instead"
   ]
  },
  {
   "cell_type": "code",
   "execution_count": 10,
   "id": "59c77875",
   "metadata": {},
   "outputs": [
    {
     "name": "stdout",
     "output_type": "stream",
     "text": [
      "Wait, what year is it?\n"
     ]
    }
   ],
   "source": [
    "superbowl_winner = None \n",
    "who_won(superbowl_winner) # None has a value = False"
   ]
  },
  {
   "cell_type": "markdown",
   "id": "9fff9668",
   "metadata": {},
   "source": [
    "#### **Vibe check**: Let's make a small change by putting quotation marks around `None`. \n",
    "\n",
    "What will the output be now?"
   ]
  },
  {
   "cell_type": "code",
   "execution_count": 11,
   "id": "9e4bbd8b",
   "metadata": {},
   "outputs": [],
   "source": [
    "superbowl_winner = \"None\"\n",
    "#who_won(superbowl_winner)"
   ]
  },
  {
   "cell_type": "code",
   "execution_count": 12,
   "id": "b11dcb82",
   "metadata": {},
   "outputs": [
    {
     "name": "stdout",
     "output_type": "stream",
     "text": [
      "str\n"
     ]
    }
   ],
   "source": [
    "superbowl_winner_type = type(superbowl_winner).__name__\n",
    "print(superbowl_winner_type)"
   ]
  },
  {
   "cell_type": "markdown",
   "id": "366246b0",
   "metadata": {},
   "source": [
    "### ### (end time permitting)"
   ]
  },
  {
   "cell_type": "markdown",
   "id": "055f7eb9",
   "metadata": {},
   "source": [
    "## 1.3 - Dictionaries & Functions"
   ]
  },
  {
   "cell_type": "code",
   "execution_count": 13,
   "id": "0ba10bcd",
   "metadata": {},
   "outputs": [],
   "source": [
    "import typing\n",
    "from scripts.helpers import Solutions"
   ]
  },
  {
   "cell_type": "markdown",
   "id": "22d193d0",
   "metadata": {},
   "source": [
    "What is the datatype of `pastfive_sb_winners`?\n",
    "\n",
    "Find it, then assign it to the variable `pastfive_sb_winners_type` (hint: use `type()`). "
   ]
  },
  {
   "cell_type": "code",
   "execution_count": 17,
   "id": "19f8fd5d",
   "metadata": {},
   "outputs": [],
   "source": [
    "pastfive_sb_winners = {\n",
    "    \"2023\": \"Kansas City Chiefs\",\n",
    "    \"2022\": \"Los Angeles Rams\",\n",
    "    \"2021\": \"Tampa Bay Buccaneers\",\n",
    "    \"2020\": \"Kansas City Chiefs\",\n",
    "    \"2019\": \"New England Patriots\",\n",
    "    \"2018\": \"Philadelphia Eagles\",\n",
    "    \"2017\": \"New England Patriots\",\n",
    "    \"2016\": \"Denver Broncos\"    \n",
    "}\n",
    "\n",
    "### Your code here\n",
    "pastfive_sb_winners_type = ... # change this\n",
    "\n",
    "## Throws an error if pastfive_sb_winners_type is incorrect\n",
    "\n",
    "assert pastfive_sb_winners_type == Solutions.q1, \"Try again\""
   ]
  },
  {
   "cell_type": "markdown",
   "id": "82cfb512",
   "metadata": {},
   "source": [
    "---"
   ]
  },
  {
   "cell_type": "markdown",
   "id": "df67f69d",
   "metadata": {},
   "source": [
    "### Python dictionaries represent key-value pairs.\n",
    "\n",
    "* In `pastfive_sb_winners`, the **keys** are years and the **values** are team names.\n",
    "\n",
    "* Each year maps to the winning team the Superbowl of the given year.\n",
    "\n",
    "**Note**: Dictionary keys cannot be duplicates, and they have other important qualities like immutability. \n",
    "\n",
    "* We'll go more into this later.\n",
    "\n",
    "* For now, the most important thing to know is that you can extract a value from a `dict` using its key.\n",
    "\n",
    "* We'll be doing this to build our Band Name Generator!\n",
    "\n"
   ]
  },
  {
   "cell_type": "code",
   "execution_count": 15,
   "id": "b4a3c2cb",
   "metadata": {},
   "outputs": [
    {
     "data": {
      "text/plain": [
       "'Kansas City Chiefs'"
      ]
     },
     "execution_count": 15,
     "metadata": {},
     "output_type": "execute_result"
    }
   ],
   "source": [
    "year = \"2023\"\n",
    "pastfive_sb_winners[year]\n",
    "\n",
    "# If the key doesn't exist???\n",
    "# pastfive_sb_winners[\"2025\"]\n"
   ]
  },
  {
   "cell_type": "markdown",
   "id": "9b9e7ab2",
   "metadata": {},
   "source": [
    "Who won the Superbowl in 2017? Assign the answer to `sb_winner_2017` and run the cell to check."
   ]
  },
  {
   "cell_type": "code",
   "execution_count": 18,
   "id": "75a73832",
   "metadata": {},
   "outputs": [],
   "source": [
    "## Your code here\n",
    "sb_winner_2017 = ...\n",
    "\n",
    "assert sb_winner_2017 == Solutions.q2, \"Try again\""
   ]
  },
  {
   "cell_type": "markdown",
   "id": "91b1f917",
   "metadata": {},
   "source": [
    "#### Question: What else could be represented by a `dict`?\n",
    "- What you have in your fridge? [y/n]\n",
    "\n",
    "- Countries you have and haven't travelled to? [y/n]"
   ]
  },
  {
   "cell_type": "markdown",
   "id": "ef266a65",
   "metadata": {},
   "source": [
    "---"
   ]
  },
  {
   "cell_type": "markdown",
   "id": "ed66cf95",
   "metadata": {},
   "source": [
    "### Functions! "
   ]
  },
  {
   "cell_type": "markdown",
   "id": "d60fa177",
   "metadata": {},
   "source": [
    "#### A very basic Python function:"
   ]
  },
  {
   "cell_type": "code",
   "execution_count": 19,
   "id": "bf2322a9",
   "metadata": {},
   "outputs": [],
   "source": [
    "def say_hi(name: str) -> str:    \n",
    "    '''\n",
    "    Appends the string \"hi\" to a name.\n",
    "    '''\n",
    "    greeting = f\"Hi, {name}!\"\n",
    "    return greeting"
   ]
  },
  {
   "cell_type": "markdown",
   "id": "f587061c",
   "metadata": {},
   "source": [
    "#### Let's walk through it line-by-line!"
   ]
  },
  {
   "cell_type": "markdown",
   "id": "30112bb1",
   "metadata": {},
   "source": [
    "* Line 1: `def say_hi(name: str) -> str:`\n",
    "\n",
    "    * (Most) functions start with the keyword `def`, short for \"define\".\n",
    "\n",
    "    * `say_hi` is the function name. \n",
    "\n",
    "    * `\\(name: str\\)-> str` - `name` is the parameter and `str` is its expected type. The `type` after the arrow ->  indicates the expected output variable.\n",
    "\n",
    "        * This is called *type hinting* - while it's not mandatory, it is good practice to avoid problems when your code gets more complex.\n",
    "        \n",
    "* Lines 2-4: \n",
    "\n",
    "    * This is a docstring: a bit of text that tells others (and sometimes yourself) what the function is meant to do.\n",
    "\n",
    "\n",
    "* Line 5: `greeting = f\"Hi, {name}!\"`\n",
    "\n",
    "    * This is the function body, where the magic happens.\n",
    "    \n",
    "    * In this case, it uses an *f-string* (more on this later) to format a greeting (\"Hi, <name>!\")\n",
    "\n",
    "* Line 6: `return greeting`\n",
    "\n",
    "    * The `return` keyword means the function is actually outputting a value - something we can store and manipulate.\n",
    "\n",
    "    *  Question: what if we changed `return` to `print()`?\n"
   ]
  },
  {
   "cell_type": "markdown",
   "id": "1d265d72",
   "metadata": {},
   "source": [
    "---\n",
    "\n",
    "### Functions: Your turn!"
   ]
  },
  {
   "cell_type": "markdown",
   "id": "5821db88",
   "metadata": {},
   "source": [
    "We now have enough information to write a piece of code that:\n",
    "\n",
    "* Takes an input `year` (Question: are there any constraints to consider?)\n",
    "\n",
    "* Returns the value for `superbowl_winner` of that `year` using `pastfive_sb_winners`\n"
   ]
  },
  {
   "cell_type": "markdown",
   "id": "8bcc6246",
   "metadata": {},
   "source": [
    "\n",
    "In other words, we're mapping a parameter *year* (what goes in) to a value *superbowl_winner* (what comes out).\n",
    "\n",
    "* That's pretty much the gist of what a function does!\n"
   ]
  },
  {
   "cell_type": "code",
   "execution_count": 20,
   "id": "a3e18359",
   "metadata": {},
   "outputs": [
    {
     "name": "stdout",
     "output_type": "stream",
     "text": [
      "{'2023': 'Kansas City Chiefs', '2022': 'Los Angeles Rams', '2021': 'Tampa Bay Buccaneers', '2020': 'Kansas City Chiefs', '2019': 'New England Patriots', '2018': 'Philadelphia Eagles', '2017': 'New England Patriots', '2016': 'Denver Broncos'}\n"
     ]
    }
   ],
   "source": [
    "# Our dictionary\n",
    "SB_DICT = pastfive_sb_winners\n",
    "print(SB_DICT)"
   ]
  },
  {
   "cell_type": "code",
   "execution_count": null,
   "id": "5818a809",
   "metadata": {},
   "outputs": [],
   "source": [
    "\n",
    "def who_won_the_sb(year:...) -> str:    # what is the expected dtype of year?\n",
    "    ### Your code here\n",
    "    pass\n",
    "    \n"
   ]
  },
  {
   "cell_type": "markdown",
   "id": "88872847",
   "metadata": {},
   "source": [
    "## 1.4 - String Methods & Project Time\n",
    "There are also methods that only work on `string` objects. We'll go over some now."
   ]
  },
  {
   "cell_type": "markdown",
   "id": "92540cbe",
   "metadata": {},
   "source": []
  }
 ],
 "metadata": {
  "kernelspec": {
   "display_name": "llenv",
   "language": "python",
   "name": "python3"
  },
  "language_info": {
   "codemirror_mode": {
    "name": "ipython",
    "version": 3
   },
   "file_extension": ".py",
   "mimetype": "text/x-python",
   "name": "python",
   "nbconvert_exporter": "python",
   "pygments_lexer": "ipython3",
   "version": "3.12.0"
  }
 },
 "nbformat": 4,
 "nbformat_minor": 5
}
